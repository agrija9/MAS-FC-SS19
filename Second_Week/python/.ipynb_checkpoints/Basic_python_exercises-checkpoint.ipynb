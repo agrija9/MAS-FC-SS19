{
 "cells": [
  {
   "cell_type": "markdown",
   "metadata": {},
   "source": [
    "## Python Exercises <br>\n",
    "The goal of this assignment is to get you familiarized with basic python functionalities which were discussed in the class. \n",
    "You will have to apply the concepts taught in class today and feel free to go through the class notebook or the other sources mentioned in the notebook to gain more clarity of the concepts. <br>\n",
    "You will have to submit a pdf copy of the notebook in slack and the submission deadline will be announced to you in class. To submit, either print the page in pdf format or you can also use the 'download as' option in the 'file' menu(you may face some errors). <br>\n",
    "\n",
    "__Practise makes a man perfect!!!__ So lets get started with the exercise problems. <br>\n"
   ]
  },
  {
   "cell_type": "markdown",
   "metadata": {},
   "source": [
    "Write a Python program to get the Python version you are using."
   ]
  },
  {
   "cell_type": "code",
   "execution_count": 2,
   "metadata": {},
   "outputs": [
    {
     "name": "stdout",
     "output_type": "stream",
     "text": [
      "2.7.15 |Anaconda, Inc.| (default, Dec 14 2018, 19:04:19) \n",
      "[GCC 7.3.0]\n"
     ]
    }
   ],
   "source": [
    "import sys\n",
    "\n",
    "print sys.version"
   ]
  },
  {
   "cell_type": "markdown",
   "metadata": {},
   "source": [
    "Write a Python program which accepts the radius of a circle from the user and compute the area. (Use math library)"
   ]
  },
  {
   "cell_type": "code",
   "execution_count": 9,
   "metadata": {},
   "outputs": [
    {
     "name": "stdout",
     "output_type": "stream",
     "text": [
      "Enter the radius of the cirlce: 2\n",
      "The area of the cirlce is:  12.5663706144\n"
     ]
    }
   ],
   "source": [
    "import math\n",
    "\n",
    "pi = math.pi\n",
    "radius_circle = float(input('Enter the radius of the cirlce: '))\n",
    "\n",
    "circle_area = pi*radius_circle**2\n",
    "print 'The area of the circle is: ', circle_area"
   ]
  },
  {
   "cell_type": "markdown",
   "metadata": {},
   "source": [
    "Write a Python program to concatenate all elements in a list into a string and return it."
   ]
  },
  {
   "cell_type": "code",
   "execution_count": 12,
   "metadata": {},
   "outputs": [
    {
     "name": "stdout",
     "output_type": "stream",
     "text": [
      "the dog is barking \n"
     ]
    }
   ],
   "source": [
    "list_to_concat = ['the', 'dog', 'is', 'barking']\n",
    "string_concatenated = ''\n",
    "\n",
    "for elem in list_to_concat:\n",
    "    string_concatenated += elem + ' '\n",
    "\n",
    "print string_concatenated"
   ]
  },
  {
   "cell_type": "code",
   "execution_count": 15,
   "metadata": {},
   "outputs": [
    {
     "data": {
      "text/plain": [
       "'the dog is barking'"
      ]
     },
     "execution_count": 15,
     "metadata": {},
     "output_type": "execute_result"
    }
   ],
   "source": [
    "# other alternative\n",
    "' '.join(list_to_concat)"
   ]
  },
  {
   "cell_type": "markdown",
   "metadata": {},
   "source": [
    "Write a Python program to calculate the area of a trapezoid. <br>\n",
    "Test Data <br>\n",
    "Height : 5<br>\n",
    "Base, first value : 5<br>\n",
    "Base, second value : 6<br>\n",
    "Expected Output: Area is : 27.5<br>"
   ]
  },
  {
   "cell_type": "code",
   "execution_count": 17,
   "metadata": {},
   "outputs": [
    {
     "name": "stdout",
     "output_type": "stream",
     "text": [
      "Enter height: 5\n",
      "Enter top base: 5\n",
      "Enter bottom base: 6\n",
      "27.5\n"
     ]
    }
   ],
   "source": [
    "height = float(input('Enter height: '))\n",
    "base_1 = float(input('Enter top base: '))\n",
    "base_2 = float(input('Enter bottom base: '))\n",
    "\n",
    "trapezoid_area = (base_1+base_2)*height/2\n",
    "\n",
    "print trapezoid_area"
   ]
  },
  {
   "cell_type": "markdown",
   "metadata": {},
   "source": [
    "Write a Python program to remove and print every third number from a list of 50 natural numbers until the list cannot be reduced any further."
   ]
  },
  {
   "cell_type": "code",
   "execution_count": 29,
   "metadata": {
    "scrolled": true
   },
   "outputs": [
    {
     "name": "stdout",
     "output_type": "stream",
     "text": [
      "3\n",
      "6\n",
      "9\n",
      "12\n",
      "15\n",
      "18\n",
      "21\n",
      "24\n",
      "27\n",
      "30\n",
      "33\n",
      "36\n",
      "39\n",
      "42\n",
      "45\n",
      "48\n",
      "\n",
      "\n",
      "[1, 2, 4, 5, 7, 8, 10, 11, 13, 14, 16, 17, 19, 20, 22, 23, 25, 26, 28, 29, 31, 32, 34, 35, 37, 38, 40, 41, 43, 44, 46, 47, 49, 50]\n"
     ]
    }
   ],
   "source": [
    "#list_to_50\n",
    "list_to_50 = [i for i in range(1,51)] # excluding zero\n",
    "\n",
    "clean_list = []\n",
    "#clean_list = [i for i in list_to_50 if i%3 != 0]\n",
    "\n",
    "for elem in list_to_50:\n",
    "    if elem%3 == 0:\n",
    "        print elem\n",
    "    else:\n",
    "        clean_list.append(elem)\n",
    "\n",
    "print '\\n'\n",
    "print clean_list"
   ]
  },
  {
   "cell_type": "markdown",
   "metadata": {},
   "source": [
    "Write a Python program to print the following text, convert the string to a list and print all the words and their \n",
    "frequencies <br>\n",
    "__\"Probability is the measure of the likelihood that an event will occur. Probability is quantified as a number between 0 and 1, where, loosely speaking, 0 indicates impossibility and 1 indicates certainty. The higher the probability of an event, the more likely it is that the event will occur.\"__"
   ]
  },
  {
   "cell_type": "code",
   "execution_count": 37,
   "metadata": {},
   "outputs": [
    {
     "name": "stdout",
     "output_type": "stream",
     "text": [
      "Counter({'the': 5, 'is': 3, 'and': 2, 'an': 2, 'indicates': 2, 'event': 2, '0': 2, 'that': 2, 'occur.': 2, 'Probability': 2, 'of': 2, 'will': 2, 'where,': 1, 'probability': 1, 'speaking,': 1, 'number': 1, 'as': 1, 'measure': 1, '1': 1, 'between': 1, 'higher': 1, 'a': 1, 'quantified': 1, 'certainty.': 1, 'it': 1, 'The': 1, 'likelihood': 1, 'event,': 1, 'loosely': 1, 'likely': 1, 'impossibility': 1, 'more': 1, '1,': 1})\n"
     ]
    }
   ],
   "source": [
    "import collections\n",
    "\n",
    "string_text = 'Probability is the measure of the likelihood that an event will occur. Probability is quantified as a number between 0 and 1, where, loosely speaking, 0 indicates impossibility and 1 indicates certainty. The higher the probability of an event, the more likely it is that the event will occur.'\n",
    "\n",
    "string_text_to_list = string_text.split()\n",
    "#print string_text_to_list\n",
    "\n",
    "word_frequencies = collections.Counter(string_text_to_list)\n",
    "\n",
    "print word_frequencies\n",
    "# Counter({1: 4, 2: 4, 3: 2, 5: 2, 4: 1})"
   ]
  },
  {
   "cell_type": "markdown",
   "metadata": {},
   "source": [
    "Write a Python program to reverse the digits of a given number and add it to the original, If the sum is not a palindrome repeat this procedure. <br>\n",
    "Note: A palindrome is a word, number, or other sequence of characters which reads the same backward as forward, such as madam or racecar."
   ]
  },
  {
   "cell_type": "code",
   "execution_count": 54,
   "metadata": {
    "scrolled": true
   },
   "outputs": [
    {
     "name": "stdout",
     "output_type": "stream",
     "text": [
      "provide number: 134\n",
      "565\n",
      "Finished, added number is palindrome\n"
     ]
    }
   ],
   "source": [
    "input_number = str(input('provide number: '))\n",
    "\n",
    "reversed_number = input_number[::-1]\n",
    "#print reversed_number\n",
    "\n",
    "added_number = int(input_number) + int(reversed_number) # add meaning arithmetic sum\n",
    "print  added_number\n",
    "\n",
    "# Example: 444 is a palindrome\n",
    "\n",
    "\n",
    "def isPalindrome(number):\n",
    "    \n",
    "    number_to_string = str(number)\n",
    "    \n",
    "    for i in range(0, len(number_to_string)/2):  \n",
    "        if number_to_string[i] != number_to_string[len(number_to_string)-i-1]: \n",
    "            return False\n",
    "    return True\n",
    "\n",
    "if isPalindrome(added_number):\n",
    "    print 'Finished, added number is palindrome'\n",
    "\n",
    "else:\n",
    "    print 'Continue, added number is not a palindrome'"
   ]
  },
  {
   "cell_type": "code",
   "execution_count": 47,
   "metadata": {},
   "outputs": [
    {
     "name": "stdout",
     "output_type": "stream",
     "text": [
      "0\n",
      "1\n",
      "2\n"
     ]
    }
   ],
   "source": [
    "for elem in range(len(str(444))):\n",
    "    print elem"
   ]
  },
  {
   "cell_type": "markdown",
   "metadata": {},
   "source": [
    "Write a Python program to generate a list of squares of numbers between 1 and 20 (both nos included) and print ONLY the first and last 5 elements."
   ]
  },
  {
   "cell_type": "code",
   "execution_count": null,
   "metadata": {},
   "outputs": [],
   "source": []
  },
  {
   "cell_type": "markdown",
   "metadata": {},
   "source": [
    "Write a Python program to split the following sentence based on white space and then extract the first letter of each split string. <br>\n",
    "__\"Jack of all trades but master of none\"__"
   ]
  },
  {
   "cell_type": "code",
   "execution_count": null,
   "metadata": {},
   "outputs": [],
   "source": []
  },
  {
   "cell_type": "markdown",
   "metadata": {},
   "source": [
    "Write a Python program to remove the duplicate elements in the list but preserve the order. <br>\n",
    "Eg: [2,3,5,4,2,3,8,4] should give an output [2,3,5,4,8]"
   ]
  },
  {
   "cell_type": "code",
   "execution_count": null,
   "metadata": {},
   "outputs": [],
   "source": []
  },
  {
   "cell_type": "markdown",
   "metadata": {},
   "source": [
    "Write a Python program to solve the Fibonacci sequence using recursion. "
   ]
  },
  {
   "cell_type": "code",
   "execution_count": null,
   "metadata": {},
   "outputs": [],
   "source": []
  },
  {
   "cell_type": "markdown",
   "metadata": {},
   "source": [
    "Given an array of integers of size n, calculate the maximum sum of k consecutive elements in the array.\n",
    "* Input: [100, 200, 300, 400]; k = 2\n",
    "* Output: 700"
   ]
  },
  {
   "cell_type": "code",
   "execution_count": null,
   "metadata": {},
   "outputs": [],
   "source": []
  },
  {
   "cell_type": "markdown",
   "metadata": {},
   "source": [
    "Write a Python program to print a dictionary with keys are the names of the numbers between one and five (both included) and values are the cubes of the numbers. <br>\n",
    "Note: You should use a list to create the keys and create the dictionary using list comprehension."
   ]
  },
  {
   "cell_type": "code",
   "execution_count": null,
   "metadata": {},
   "outputs": [],
   "source": []
  },
  {
   "cell_type": "markdown",
   "metadata": {},
   "source": [
    "Write a program which accepts a sequence of comma separated 4 digit binary numbers as its input and then check whether they are divisible by 5 or not. The numbers that are divisible by 5 are to be printed in a comma separated sequence. <br>\n",
    "Example:<br>\n",
    "0110,1001,0100,1010<br>\n",
    "Then the output should be:<br>\n",
    "1010\n",
    "Hint: Look up how to convert from integer to binary/hex/oct in python"
   ]
  },
  {
   "cell_type": "code",
   "execution_count": null,
   "metadata": {},
   "outputs": [],
   "source": []
  },
  {
   "cell_type": "markdown",
   "metadata": {},
   "source": [
    "Write a python program to check whether a given number is an Armstrong number using a function. <br>\n",
    "Note : An Armstrong number is one whose sum of cubes of digits is equal to the number itself. Eg: 371"
   ]
  },
  {
   "cell_type": "code",
   "execution_count": null,
   "metadata": {},
   "outputs": [],
   "source": []
  },
  {
   "cell_type": "markdown",
   "metadata": {},
   "source": [
    "Flatten a nested sequence into a single list of values. Note: the logic should work for any number of nested\n",
    "sequences.\n",
    "* Input: [1, 2, [3, 4, [5, 6], 7], 8]\n",
    "* Output: [1, 2, 3, 4, 5, 6, 7, 8]"
   ]
  },
  {
   "cell_type": "code",
   "execution_count": null,
   "metadata": {},
   "outputs": [],
   "source": []
  },
  {
   "cell_type": "markdown",
   "metadata": {},
   "source": [
    "Write a python program to find if a number is Automorphic or not. <br>\n",
    "Note: A number is Automorphic if and only if its square ends with the same digit as itself. Eg: The number 25 has its square 625 ending with the same last digit."
   ]
  },
  {
   "cell_type": "code",
   "execution_count": null,
   "metadata": {},
   "outputs": [],
   "source": []
  },
  {
   "cell_type": "markdown",
   "metadata": {},
   "source": [
    "Write a program to sort the dictionary based on value in reverse order.\n",
    "data = {\"maths\":50, \"physics\":90, \"chemistry:\"80, \"english\":70, \"history\":85}\n",
    "Hint: Use itemgetter"
   ]
  },
  {
   "cell_type": "code",
   "execution_count": null,
   "metadata": {},
   "outputs": [],
   "source": []
  },
  {
   "cell_type": "markdown",
   "metadata": {},
   "source": [
    "Create a matrix $A = \\begin{bmatrix}1 & 2 & 3 \\\\4 & 5 & 6 \\end{bmatrix}$ and find its transpose using <br>\n",
    "1. List comprehension\n",
    "2. Zip"
   ]
  },
  {
   "cell_type": "code",
   "execution_count": null,
   "metadata": {},
   "outputs": [],
   "source": []
  },
  {
   "cell_type": "markdown",
   "metadata": {},
   "source": [
    "Write a program to find the largest N items in a list?\n",
    "* Input: [1, 8, 2, 23, 7, -4, 18, 23, 42, 37, 2] and 3 (N)\n",
    "* Output: [42, 37, 23]"
   ]
  },
  {
   "cell_type": "code",
   "execution_count": null,
   "metadata": {},
   "outputs": [],
   "source": []
  },
  {
   "cell_type": "markdown",
   "metadata": {},
   "source": [
    "Write a sigmoid function which takes a matrix (x) as input and outputs a matrix. The formula for sigmoid\n",
    "function is $\\frac{1}{1+e^{-x}}$<br>\n",
    "$X = \\begin{bmatrix}10 & 20 & 30 \\\\4 & 5 & 6 \\end{bmatrix}$ <br>\n",
    "Note: Please DO NOT use numpy."
   ]
  },
  {
   "cell_type": "code",
   "execution_count": null,
   "metadata": {},
   "outputs": [],
   "source": []
  },
  {
   "cell_type": "markdown",
   "metadata": {},
   "source": [
    "Simulate a fast-food ordering scenario by defining four classes <br>\n",
    "* Lunch: A container and controller class\n",
    "* Customer: The actor who buys food\n",
    "* Employee: The actor from whom a customer orders\n",
    "* Food: What the customer buys <br> <br>\n",
    "The order simulation should work as follows<br>\n",
    "\n",
    "1.The Lunch class’s constructor should make and embed an instance of Customer and an instance of\n",
    "Employee, and it should export a method called order. When called, this order method should ask the\n",
    "Customer to place an order by calling its place_order method. The Customer’s place_order method\n",
    "should in turn ask the Employee object for a new Food object by calling Employee’s take_order method. <br>\n",
    "2.Food objects should store a food name string (e.g., “dosa”), passed down from Lunch.order, to\n",
    "Customer.place_order, to Employee.take_order, and finally to Food’s constructor. The top-level Lunch\n",
    "class should also export a method called result, which asks the customer to print the name of the food\n",
    "it received from the Employee via the order (this can be used to test your simulation)."
   ]
  },
  {
   "cell_type": "code",
   "execution_count": null,
   "metadata": {},
   "outputs": [],
   "source": []
  }
 ],
 "metadata": {
  "kernelspec": {
   "display_name": "Python 2",
   "language": "python",
   "name": "python2"
  },
  "language_info": {
   "codemirror_mode": {
    "name": "ipython",
    "version": 2
   },
   "file_extension": ".py",
   "mimetype": "text/x-python",
   "name": "python",
   "nbconvert_exporter": "python",
   "pygments_lexer": "ipython2",
   "version": "2.7.15"
  }
 },
 "nbformat": 4,
 "nbformat_minor": 2
}
