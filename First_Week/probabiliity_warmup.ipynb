{
 "cells": [
  {
   "cell_type": "markdown",
   "metadata": {},
   "source": [
    "### Exercise 1: Let's kill some zombies [0.25 points]\n",
    "\n",
    "Let's suppose that we're in a zombie apocalypse and we're getting ready to leave our settlement to look for food. Then, our sniper suggests that we should give him some time to kill a few zombies from our watch tower, so that it is safer to leave. There are 100 zombies outiside - 50 walkers, 35 runners, and 15 giants. Our sniper is a little overconfident, so he just said that he'll go up the watch tower and start shooting at whatever he sees. Unluckily, the only sniper we got is not a pro, so there is a chance that he'll miss. If the sniper shoots a walker, there is a 0.05 probability that he'll fail; similarly, there is a 0.15 probability that he'll fail if he shoots a runner and a 0.1 probability that he'll fail if he shoots a giant.\n",
    "\n",
    "#### a) What prior probabilities do we know in this case?\n",
    "\n",
    "#### b) What is the probability that the sniper doesn't shoot a runner?\n",
    "\n",
    "#### c) What is the probability that the sniper shoots a giant and fails?\n",
    "\n",
    "#### d) If we notice that the sniper failed a shot, what is the probability that he was trying to shoot a walker?\n"
   ]
  },
  {
   "cell_type": "markdown",
   "metadata": {},
   "source": [
    "*a) Prior probabilities: p(walker) = 0.5, p(runner) = 0.35, p(giant) = 0.15*"
   ]
  },
  {
   "cell_type": "markdown",
   "metadata": {},
   "source": [
    "*b) p(not shoot a runner) = (50 + 15)/100 = 0.65*"
   ]
  },
  {
   "cell_type": "markdown",
   "metadata": {},
   "source": [
    "*c) p(shoot fail giant) = 0.1*"
   ]
  },
  {
   "cell_type": "markdown",
   "metadata": {},
   "source": [
    "*d) p (walker / shoot) = : *()(0.5)* ## failed, trying to shoot walker"
   ]
  },
  {
   "cell_type": "markdown",
   "metadata": {},
   "source": [
    "P(Fire|Smoke) =P(Fire) P(Smoke|Fire)/P(Smoke)"
   ]
  },
  {
   "cell_type": "markdown",
   "metadata": {},
   "source": [
    "#### P(A|B) = P(A) P(B|A) / P(B) --> Bayes Theorem"
   ]
  },
  {
   "cell_type": "markdown",
   "metadata": {},
   "source": [
    "### Exercise 2: Time-travelling test subject [0.25 points]\n",
    "\n",
    "Let's say that we've developed a time-travelling watch, but it can only take you exactly 5 years into the future or 5 years back in time. Additionally, once you use it, it only allows you to go back to the present, or stay in whichever time you're now. Our secret organization is ready to run some tests on humans, so they are sending the first human subject. Now, while waiting for the test to start, one of your collegues starts talking to you. He's trying to guess what the human subject will do. He thinks that there is a 80% chance that the subject will travel to the future. And if the subject doesn't travel to the future, there is a 70% chance that he'll come back to the present. On the other hand, if the subject does travel to the future, there is a 60% chance that he'll come back to the present.\n",
    "\n",
    "#### a) Which interpretation of probability is being used here and why?\n",
    "\n",
    "#### b) What events are mentioned in the problem description and what are their probabilities? Which ones of these probabilities are priors and which ones are conditional probabilities?\n",
    "\n",
    "#### c) What is the probability that the subject never comes back?\n",
    "\n",
    "#### d) After the experiment, the subject didn't come back to the present. What is the probability that the subject travelled to the past?\n"
   ]
  },
  {
   "cell_type": "code",
   "execution_count": null,
   "metadata": {},
   "outputs": [],
   "source": []
  },
  {
   "cell_type": "code",
   "execution_count": null,
   "metadata": {},
   "outputs": [],
   "source": []
  },
  {
   "cell_type": "code",
   "execution_count": null,
   "metadata": {},
   "outputs": [],
   "source": []
  },
  {
   "cell_type": "code",
   "execution_count": null,
   "metadata": {},
   "outputs": [],
   "source": []
  }
 ],
 "metadata": {
  "kernelspec": {
   "display_name": "Python 2",
   "language": "python",
   "name": "python2"
  },
  "language_info": {
   "codemirror_mode": {
    "name": "ipython",
    "version": 2
   },
   "file_extension": ".py",
   "mimetype": "text/x-python",
   "name": "python",
   "nbconvert_exporter": "python",
   "pygments_lexer": "ipython2",
   "version": "2.7.15"
  }
 },
 "nbformat": 4,
 "nbformat_minor": 2
}
